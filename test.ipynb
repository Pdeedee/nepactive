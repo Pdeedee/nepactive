{
 "cells": [
  {
   "cell_type": "code",
   "execution_count": 5,
   "metadata": {},
   "outputs": [
    {
     "name": "stdout",
     "output_type": "stream",
     "text": [
      "{'ini_engine': 'ase', 'ini_ase_ensemble_files': ['/workplace/liuzf/code/nepactive/example/prep/run_npt.py', '/workplace/liuzf/code/nepactive/example/prep/run_npt.py'], 'python_interpreter': '/workplace/liuzf/miniforge3/envs/mattersim/bin/python', 'ini_frames': 10, 'training_ratio': 0.8, 'pot_file': '/workplace/liuzf/ase/n5/30GPa300/best_model.pth', 'nep_template': '/workplace/liuzf/code/nepactive/example/prep/nep.in', 'pot_number': 4, 'model_devi': [{'id': 0, 'gpumd_template': ['/workplace/liuzf/code/nepactive/example/prep/run.in', '/workplace/liuzf/code/nepactive/example/prep/run.in']}, {'id': 1, 'gpumd_template': ['/workplace/liuzf/code/nepactive/example/prep/run.in', '/workplace/liuzf/code/nepactive/example/prep/run.in']}, {'id': 2, 'gpumd_template': ['/workplace/liuzf/code/nepactive/example/prep/run.in', '/workplace/liuzf/code/nepactive/example/prep/run.in']}], 'uncertaity_threshold_low': 0.2, 'uncertainty_threshold_high': 0.5, 'uncertainty_level': 1}\n"
     ]
    }
   ],
   "source": [
    "import yaml\n",
    "\n",
    "# 打开并读取YAML文件\n",
    "with open('in.yaml', 'r') as file:\n",
    "    idata = yaml.safe_load(file)\n",
    "# data = yaml.safe_load(\"in.yaml\")\n",
    "print(idata)\n",
    "\n"
   ]
  },
  {
   "cell_type": "code",
   "execution_count": 7,
   "metadata": {},
   "outputs": [
    {
     "data": {
      "text/plain": [
       "2"
      ]
     },
     "execution_count": 7,
     "metadata": {},
     "output_type": "execute_result"
    }
   ],
   "source": [
    "len(idata[\"model_devi\"][0].get(\"gpumd_template\"))"
   ]
  },
  {
   "cell_type": "code",
   "execution_count": 3,
   "metadata": {},
   "outputs": [
    {
     "data": {
      "text/plain": [
       "'ase'"
      ]
     },
     "execution_count": 3,
     "metadata": {},
     "output_type": "execute_result"
    }
   ],
   "source": [
    "data[\"ini_engine\"]"
   ]
  },
  {
   "cell_type": "code",
   "execution_count": 22,
   "metadata": {},
   "outputs": [
    {
     "data": {
      "text/plain": [
       "'1'"
      ]
     },
     "execution_count": 22,
     "metadata": {},
     "output_type": "execute_result"
    }
   ],
   "source": [
    "data['initial'][\"ensemblefiles\"][0]"
   ]
  },
  {
   "cell_type": "code",
   "execution_count": 1,
   "metadata": {},
   "outputs": [
    {
     "ename": "NameError",
     "evalue": "name 'data' is not defined",
     "output_type": "error",
     "traceback": [
      "\u001b[0;31m---------------------------------------------------------------------------\u001b[0m",
      "\u001b[0;31mNameError\u001b[0m                                 Traceback (most recent call last)",
      "Cell \u001b[0;32mIn[1], line 3\u001b[0m\n\u001b[1;32m      1\u001b[0m \u001b[38;5;28;01mfrom\u001b[39;00m \u001b[38;5;21;01mactiveL\u001b[39;00m \u001b[38;5;28;01mimport\u001b[39;00m dlog\n\u001b[0;32m----> 3\u001b[0m dlog\u001b[38;5;241m.\u001b[39minfo(\u001b[43mdata\u001b[49m[\u001b[38;5;124m'\u001b[39m\u001b[38;5;124minitial\u001b[39m\u001b[38;5;124m'\u001b[39m][\u001b[38;5;124m\"\u001b[39m\u001b[38;5;124mensemblefiles\u001b[39m\u001b[38;5;124m\"\u001b[39m][\u001b[38;5;241m0\u001b[39m])\n",
      "\u001b[0;31mNameError\u001b[0m: name 'data' is not defined"
     ]
    }
   ],
   "source": [
    "from activeL import dlog\n",
    "\n",
    "dlog.info(data['initial'][\"ensemblefiles\"][0])"
   ]
  }
 ],
 "metadata": {
  "kernelspec": {
   "display_name": "dev",
   "language": "python",
   "name": "python3"
  },
  "language_info": {
   "codemirror_mode": {
    "name": "ipython",
    "version": 3
   },
   "file_extension": ".py",
   "mimetype": "text/x-python",
   "name": "python",
   "nbconvert_exporter": "python",
   "pygments_lexer": "ipython3",
   "version": "3.9.undefined"
  }
 },
 "nbformat": 4,
 "nbformat_minor": 2
}
