{
 "cells": [
  {
   "cell_type": "code",
   "execution_count": 1,
   "metadata": {},
   "outputs": [
    {
     "name": "stdout",
     "output_type": "stream",
     "text": [
      "{'project_name': 'TNT', 'ini_engine': 'ase', 'ini_ase_ensemble_files': ['/workplace/liuzf/code/nepactive/example/prep/run_npt.py', '/workplace/liuzf/code/nepactive/example/prep/run_npt.py'], 'python_interpreter': '/workplace/liuzf/miniforge3/envs/mattersim/bin/python', 'ini_frames': 10, 'training_ratio': 0.8, 'pot_file': '/workplace/liuzf/ase/n5/30GPa300/best_model.pth', 'nep_template': '/workplace/liuzf/code/nepactive/example/prep/nep.in', 'pot_number': 4, 'model_devi': [{'id': 0, 'gpumd_template': ['/workplace/liuzf/code/nepactive/example/prep/run.in', '/workplace/liuzf/code/nepactive/example/prep/run.in'], 'xyz_file': '/workplace/liuzf/code/nepactive/example/prep/model.xyz'}, {'id': 1, 'gpumd_template': ['/workplace/liuzf/code/nepactive/example/prep/run.in', '/workplace/liuzf/code/nepactive/example/prep/run.in'], 'xyz_file': '/workplace/liuzf/code/nepactive/example/prep/model.xyz'}, {'id': 2, 'gpumd_template': ['/workplace/liuzf/code/nepactive/example/prep/run.in', '/workplace/liuzf/code/nepactive/example/prep/run.in'], 'xyz_file': '/workplace/liuzf/code/nepactive/example/prep/model.xyz'}], 'uncertaity_threshold_low': 0.2, 'uncertainty_threshold_high': 1, 'uncertainty_level': 1, 'fp_command': 'mpirun -np 96 vasp_std', 'ssh_username': 'sch9797@BSCC-T6', 'ssh_hostname': 'ssh.cn-zhongwei-1.paracloud.com', 'ssh_port': 22, 'ssh_password': 'ASDf1234', 'ssh_key_filename': '~/.ssh/id_ecdsa', 'ssh_timeout': 20, 'remote_root': '/public1/home/sch9797/liu/nep', 'slurm_header_script': ['#!/bin/bash', '#SBATCH --job-name=gpumd', '#SBATCH -p v6_384', '#SBATCH -N 1', '#SBATCH -n 96', 'source /public1/soft/modules/module.sh', 'module load mpi/oneAPI/2022.1', 'export PATH=/public1/home/sch9797/software-sch9797/6.3.0-vtst+opt+sol+wannier:$PATH']}\n"
     ]
    }
   ],
   "source": [
    "import yaml\n",
    "\n",
    "# 打开并读取YAML文件\n",
    "with open('in.yaml', 'r') as file:\n",
    "    idata = yaml.safe_load(file)\n",
    "# data = yaml.safe_load(\"in.yaml\")\n",
    "print(idata)\n",
    "\n"
   ]
  },
  {
   "cell_type": "code",
   "execution_count": 2,
   "metadata": {},
   "outputs": [
    {
     "data": {
      "text/plain": [
       "'/workplace/liuzf/code/nepactive/example/iter.000001/02.label'"
      ]
     },
     "execution_count": 2,
     "metadata": {},
     "output_type": "execute_result"
    }
   ],
   "source": [
    "from nepactive.remote import traj2tasks\n",
    "import os\n",
    "os.chdir(\"/workplace/liuzf/code/nepactive/example/iter.000001/02.label\")\n",
    "os.getcwd()"
   ]
  },
  {
   "cell_type": "code",
   "execution_count": 4,
   "metadata": {},
   "outputs": [],
   "source": [
    "traj2tasks()"
   ]
  },
  {
   "cell_type": "code",
   "execution_count": 29,
   "metadata": {},
   "outputs": [
    {
     "name": "stdout",
     "output_type": "stream",
     "text": [
      "/home/liuzf/.ssh/id_ecdsa\n",
      "ssh.cn-zhongwei-1.paracloud.com\n",
      "22\n",
      "sch9797@BSCC-T6\n"
     ]
    }
   ],
   "source": [
    "import paramiko\n",
    "import os\n",
    "ssh = paramiko.SSHClient()\n",
    "paramiko.util.log_to_file('paramiko.log')  # 记录日志到文件\n",
    "ssh.set_missing_host_key_policy(paramiko.AutoAddPolicy)\n",
    "# key_filename = idata.get('ssh_key_filename')\n",
    "hostname = idata.get('ssh_hostname')\n",
    "port = idata.get('ssh_port')\n",
    "username = idata.get('ssh_username')\n",
    "# timeout = idata.get('ssh_timeout')\n",
    "key_filename = os.path.expanduser(\"~/.ssh/id_ecdsa\")\n",
    "password = \"Hc@2022121\"\n",
    "print(key_filename)\n",
    "print(hostname)\n",
    "print(port)\n",
    "print(username)\n",
    "# 启用调试日志\n",
    "paramiko.util.log_to_file('paramiko.log')\n",
    "\n",
    "# 尝试连接\n",
    "\n",
    "ssh = paramiko.SSHClient()\n",
    "ssh.set_missing_host_key_policy(paramiko.AutoAddPolicy())\n",
    "ssh.connect(\n",
    "    hostname=hostname,\n",
    "    port=port,\n",
    "    username=username,\n",
    "    # password=password,\n",
    "    # key_filename = key_filename,\n",
    "    timeout=60,\n",
    "    compress=True,\n",
    "    allow_agent=False, \n",
    "    look_for_keys=True\n",
    ")\n"
   ]
  },
  {
   "cell_type": "code",
   "execution_count": 7,
   "metadata": {},
   "outputs": [
    {
     "data": {
      "text/plain": [
       "'/workplace/liuzf/code/nepactive/example'"
      ]
     },
     "execution_count": 7,
     "metadata": {},
     "output_type": "execute_result"
    }
   ],
   "source": [
    "os.getcwd()"
   ]
  },
  {
   "cell_type": "code",
   "execution_count": 1,
   "metadata": {},
   "outputs": [
    {
     "name": "stdout",
     "output_type": "stream",
     "text": [
      "subret:['Submitted batch job 22760712\\n']\n",
      "job_id:22760712\n"
     ]
    }
   ],
   "source": [
    "subret = ['Submitted batch job 22760712\\n']\n",
    "print(f\"subret:{subret}\")\n",
    "\n",
    "# 提取 job_id\n",
    "job_id = subret[0].split()[-1].strip()\n",
    "print(f\"job_id:{job_id}\")\n"
   ]
  },
  {
   "cell_type": "code",
   "execution_count": 2,
   "metadata": {},
   "outputs": [
    {
     "name": "stdout",
     "output_type": "stream",
     "text": [
      "0\n",
      "1\n",
      "2\n",
      "3\n"
     ]
    }
   ],
   "source": [
    "for i in range(4):\n",
    "    print(i)"
   ]
  },
  {
   "cell_type": "code",
   "execution_count": 2,
   "metadata": {},
   "outputs": [
    {
     "data": {
      "text/plain": [
       "dict_keys(['test'])"
      ]
     },
     "execution_count": 2,
     "metadata": {},
     "output_type": "execute_result"
    }
   ],
   "source": [
    "all_dict = {}\n",
    "all_dict[\"test\"] = 1\n",
    "all_dict.keys()"
   ]
  },
  {
   "cell_type": "code",
   "execution_count": null,
   "metadata": {},
   "outputs": [],
   "source": [
    "with open('in.yaml', 'r') as file:\n",
    "    data = yaml.safe_load(file)\n",
    "\n",
    "model_devi:dict = idata[\"model_devi\"][self.ii]"
   ]
  },
  {
   "cell_type": "code",
   "execution_count": 4,
   "metadata": {},
   "outputs": [
    {
     "name": "stdout",
     "output_type": "stream",
     "text": [
      "\n",
      "potential\t\tnep.txt\n",
      "\n",
      "minimize sd 1.0e-6 10000\n",
      "\n",
      "time_step\t    0.5\n",
      "velocity\t\t{temperature}\n",
      "\n",
      "ensemble        npt_ber {temperature} {temperature} 200 {pressure} {pressure} {pressure} 50 50 50 1000\n",
      "\n",
      "dump_thermo\t\t100\n",
      "dump_exyz       100\n",
      "run\t\t\t    5000\n",
      "\n"
     ]
    }
   ],
   "source": [
    "npt_template = \"\"\"\n",
    "potential\t\tnep.txt\n",
    "\n",
    "minimize sd 1.0e-6 10000\n",
    "\n",
    "time_step\t    {time_step}\n",
    "velocity\t\t{temperature}\n",
    "\n",
    "ensemble        npt_ber {temperature} {temperature} 200 {pressure} {pressure} {pressure} 50 50 50 1000\n",
    "\n",
    "dump_thermo\t\t{dump_freq}\n",
    "dump_exyz       {dump_freq}\n",
    "run\t\t\t    {run_steps}\n",
    "\"\"\"\n",
    "\n",
    "# 第一阶段，填充一些常用变量\n",
    "general_text = npt_template.replace(\"{time_step}\", \"0.5\")\n",
    "general_text = general_text.replace(\"{run_steps}\", \"5000\")\n",
    "general_text = general_text.replace(\"{dump_freq}\", \"100\")\n",
    "\n",
    "print(general_text)\n"
   ]
  },
  {
   "cell_type": "code",
   "execution_count": 3,
   "metadata": {},
   "outputs": [],
   "source": [
    "from ase.io import read\n",
    "from ase.io.extxyz import write_extxyz\n",
    "atoms = read(\"/workplace/liuzf/code/nepactive/example/iteractive/prep/N2_CO_H2O.pdb\")\n",
    "write_extxyz(\"model.xyz\",atoms,write_results=False)"
   ]
  },
  {
   "cell_type": "code",
   "execution_count": 3,
   "metadata": {},
   "outputs": [
    {
     "name": "stderr",
     "output_type": "stream",
     "text": [
      "INFO:nepactive:Initial training data extracted\n"
     ]
    }
   ],
   "source": [
    "from nepactive.train import Nepactive\n",
    "import yaml\n",
    "with open('in.yaml', 'r') as file:\n",
    "    idata = yaml.safe_load(file)\n",
    "neptrain = Nepactive(idata)\n",
    "neptrain.make_data_extraction()"
   ]
  },
  {
   "cell_type": "code",
   "execution_count": 1,
   "metadata": {},
   "outputs": [
    {
     "data": {
      "text/plain": [
       "120.44281717098323"
      ]
     },
     "execution_count": 1,
     "metadata": {},
     "output_type": "execute_result"
    }
   ],
   "source": [
    "from ase import units\n",
    "import numpy as np\n",
    "2e6*units.GPa*np.power(units.fs,2)"
   ]
  },
  {
   "cell_type": "code",
   "execution_count": 1,
   "metadata": {},
   "outputs": [
    {
     "name": "stdout",
     "output_type": "stream",
     "text": [
      "最小值: 0\n",
      "最小值的索引: (2, 2)\n"
     ]
    }
   ],
   "source": [
    "import numpy as np\n",
    "\n",
    "# 假设这是一个距离矩阵\n",
    "distance_matrix = np.array([[1, 2, 3], [4, 5, 6], [7, 8, 0]])\n",
    "\n",
    "# 获取最小值的索引\n",
    "min_index = np.unravel_index(np.argmin(distance_matrix), distance_matrix.shape)\n",
    "\n",
    "# 获取最小值\n",
    "min_value = np.min(distance_matrix)\n",
    "\n",
    "print(f\"最小值: {min_value}\")\n",
    "print(f\"最小值的索引: {min_index}\")\n"
   ]
  },
  {
   "cell_type": "code",
   "execution_count": 1,
   "metadata": {},
   "outputs": [
    {
     "name": "stdout",
     "output_type": "stream",
     "text": [
      "[[1 6 7]\n",
      " [3 2 5]\n",
      " [4 3 2]]\n"
     ]
    }
   ],
   "source": [
    "import numpy as np\n",
    "\n",
    "# 假设 property_needed 是一个二维的 numpy array\n",
    "property_needed = np.array([[3, 2, 5], [1, 6, 7], [4, 3, 2]])\n",
    "\n",
    "# 使用 argsort 获取第一列按大小排序的索引\n",
    "sorted_indices = np.argsort(property_needed[:, 0])\n",
    "\n",
    "# 根据索引重新排序整个数组\n",
    "sorted_property_needed = property_needed[sorted_indices]\n",
    "\n",
    "print(sorted_property_needed)\n"
   ]
  },
  {
   "cell_type": "code",
   "execution_count": 9,
   "metadata": {},
   "outputs": [
    {
     "name": "stdout",
     "output_type": "stream",
     "text": [
      "       Step     Time          Energy          fmax\n",
      "LBFGS:    0 10:00:18      -23.985216        1.304960\n",
      "LBFGS:    1 10:00:18      -24.055538        0.761343\n",
      "LBFGS:    2 10:00:18      -24.091545        0.110601\n",
      "LBFGS:    3 10:00:18      -24.092119        0.013398\n"
     ]
    }
   ],
   "source": [
    "from mattersim.forcefield import MatterSimCalculator\n",
    "from ase.io import  read,write\n",
    "from ase.optimize import LBFGS\n",
    "atoms = read(\"/workplace/liuzf/code/nepactive/example/00.TNT/prep/CH4.pdb\")\n",
    "calculator=MatterSimCalculator(device=\"cuda\")\n",
    "atoms._calc = calculator\n",
    "opt = LBFGS(atoms)\n",
    "opt.run(fmax=0.05,steps=200)\n",
    "write(\"CH4.pdb\",atoms)\n"
   ]
  },
  {
   "cell_type": "code",
   "execution_count": 13,
   "metadata": {},
   "outputs": [
    {
     "name": "stderr",
     "output_type": "stream",
     "text": [
      "INFO:nepactive:model_devi_general:[{'id': '0-5', 'ensemble': ['msst'], 'structure_id': [0], 'each_run_steps': [100000, 200000, 400000, 800000, 1600000], 'v_shock': [7, 8, 8.5, 9]}, {'id': '6-11', 'ensemble': ['nphugo'], 'structure_id': [0, 1], 'pressure': [20, 25, 30, 40], 'each_run_steps': [100000, 200000, 400000, 800000, 1600000], 'v0': [1823.6], 'e0': [-1092.25], 'p0': [1]}]\n",
      "INFO:nepactive:the each_runsteps is not enough, will use the last one\n",
      "INFO:nepactive:1th model_devi_general has run_steps:1600000\n"
     ]
    },
    {
     "data": {
      "text/plain": [
       "{'id': '6-11',\n",
       " 'ensemble': ['nphugo'],\n",
       " 'structure_id': [0, 1],\n",
       " 'pressure': [20, 25, 30, 40],\n",
       " 'each_run_steps': [100000, 200000, 400000, 800000, 1600000],\n",
       " 'v0': [1823.6],\n",
       " 'e0': [-1092.25],\n",
       " 'p0': [1],\n",
       " 'run_steps': 1600000}"
      ]
     },
     "execution_count": 13,
     "metadata": {},
     "output_type": "execute_result"
    }
   ],
   "source": [
    "import yaml\n",
    "from nepactive.train import Nepactive\n",
    "with open('in.yaml', 'r', encoding='utf-8') as file:\n",
    "    idata = yaml.safe_load(file)\n",
    "neptrain = Nepactive(idata)\n",
    "neptrain.get_model_devi(iteration=11)"
   ]
  },
  {
   "cell_type": "code",
   "execution_count": 11,
   "metadata": {},
   "outputs": [
    {
     "data": {
      "text/plain": [
       "{'project_name': 'TNT',\n",
       " 'yaml_synchro': True,\n",
       " 'ini_engine': 'ase',\n",
       " 'ini_ase_ensemble_files': ['prep/npt.py',\n",
       "  'prep/msst.py',\n",
       "  'prep/npt_stable.py'],\n",
       " 'python_interpreter': '/workplace/liuzf/miniforge3/envs/mattersim/bin/python',\n",
       " 'ini_frames': 1500,\n",
       " 'training_ratio': 0.8,\n",
       " 'pot_file': '/home/liuzf/.local/mattersim/pretrained_models/mattersim-v1.0.0-1M.pth',\n",
       " 'structure_prefix': '/workplace/liuzf/code/nepactive/example/00.TNT/prep',\n",
       " 'structure_files': ['TNT.cif', 'N2_CH4_CO_CO2.pdb'],\n",
       " 'kpoints_file': 'prep/KPOINTS',\n",
       " 'incar_file': 'prep/INCAR',\n",
       " 'potcar_file': 'prep/POTCAR',\n",
       " 'nep_template': 'prep/nep.in',\n",
       " 'pot_number': 4,\n",
       " 'pot_inherit': True,\n",
       " 'max_candidate': 2000,\n",
       " 'model_devi_time_step': 0.2,\n",
       " 'gpu_available': [0, 1, 0, 1],\n",
       " 'task_per_gpu': 1,\n",
       " 'dump_freq': 10,\n",
       " 'time_step': 0.2,\n",
       " 'model_devi': [{'id': 0,\n",
       "   'ensemble': ['msst'],\n",
       "   'structure_id': [0],\n",
       "   'run_steps': 800000,\n",
       "   'v_shock': [7, 8, 8.5, 9]},\n",
       "  {'id': 1,\n",
       "   'ensemble': ['msst'],\n",
       "   'structure_id': [0],\n",
       "   'run_steps': 1000000,\n",
       "   'v_shock': [7, 8, 8.5, 9]},\n",
       "  {'id': 0,\n",
       "   'ensemble': ['msst'],\n",
       "   'structure_id': [0],\n",
       "   'run_steps': 50000,\n",
       "   'v_shock': [7, 8, 8.5, 9]},\n",
       "  {'id': 1,\n",
       "   'ensemble': ['msst'],\n",
       "   'structure_id': [0],\n",
       "   'run_steps': 100000,\n",
       "   'v_shock': [7, 8, 8.5, 9]},\n",
       "  {'id': 2,\n",
       "   'ensemble': ['msst'],\n",
       "   'structure_id': [0],\n",
       "   'run_steps': 200000,\n",
       "   'v_shock': [7, 8, 8.5, 9]},\n",
       "  {'id': 3,\n",
       "   'ensemble': ['msst'],\n",
       "   'structure_id': [0],\n",
       "   'run_steps': 400000,\n",
       "   'v_shock': [7, 8, 8.5, 9]},\n",
       "  {'id': 4,\n",
       "   'ensemble': ['nphugo'],\n",
       "   'structure_id': [1],\n",
       "   'pressure': [10, 20, 30, 40],\n",
       "   'run_steps': 100000,\n",
       "   'v0': [1740.84],\n",
       "   'e0': [-1031.8],\n",
       "   'p0': [1]},\n",
       "  {'id': 5,\n",
       "   'ensemble': ['nphugo'],\n",
       "   'structure_id': [0, 1],\n",
       "   'pressure': [20, 25, 30, 40],\n",
       "   'run_steps': 200000,\n",
       "   'v0': [1740.84],\n",
       "   'e0': [-1031.8],\n",
       "   'p0': [1]},\n",
       "  {'id': 6,\n",
       "   'ensemble': ['nphugo'],\n",
       "   'structure_id': [0, 1],\n",
       "   'pressure': [20, 25, 30, 40],\n",
       "   'run_steps': 400000,\n",
       "   'v0': [1740.84],\n",
       "   'e0': [-1031.8],\n",
       "   'p0': [1]},\n",
       "  {'id': 7,\n",
       "   'ensemble': ['nphugo'],\n",
       "   'structure_id': [0, 1],\n",
       "   'pressure': [20, 25, 30, 40],\n",
       "   'run_steps': 800000,\n",
       "   'v0': [1740.84],\n",
       "   'e0': [-1031.8],\n",
       "   'p0': [1]},\n",
       "  {'id': 8,\n",
       "   'ensemble': ['nphugo'],\n",
       "   'structure_id': [0, 1],\n",
       "   'pressure': [20, 25, 30, 40],\n",
       "   'run_steps': 1600000,\n",
       "   'v0': [1740.84],\n",
       "   'e0': [-1031.8],\n",
       "   'p0': [1]},\n",
       "  {'id': 9,\n",
       "   'ensemble': ['nphugo'],\n",
       "   'structure_id': [0, 1],\n",
       "   'pressure': [20, 25, 30, 40],\n",
       "   'run_steps': 1600000,\n",
       "   'v0': [1740.84],\n",
       "   'e0': [-1031.8],\n",
       "   'p0': [1]},\n",
       "  {'id': 10,\n",
       "   'ensemble': ['nphugo'],\n",
       "   'structure_id': [0, 1],\n",
       "   'pressure': [20, 25, 30, 40],\n",
       "   'run_steps': 1600000,\n",
       "   'v0': [1740.84],\n",
       "   'e0': [-1031.8],\n",
       "   'p0': [1]},\n",
       "  {'id': 11,\n",
       "   'ensemble': ['nphugo'],\n",
       "   'structure_id': [0, 1],\n",
       "   'pressure': [20, 25, 30, 40],\n",
       "   'run_steps': 1600000,\n",
       "   'v0': [1740.84],\n",
       "   'e0': [-1031.8],\n",
       "   'p0': [1]}],\n",
       " 'uncertainty_threshold_low': 0.2,\n",
       " 'uncertainty_threshold_high': 0.5,\n",
       " 'uncertainty_level': 1,\n",
       " 'uncertainty_mode': 'mean',\n",
       " 'energy_threshold': 1,\n",
       " 'fp_command': 'mpirun -np 96 vasp_std',\n",
       " 'ssh_username': 'sch9797@BSCC-T6',\n",
       " 'ssh_hostname': 'ssh.cn-zhongwei-1.paracloud.com',\n",
       " 'ssh_port': 22,\n",
       " 'ssh_timeout': 20,\n",
       " 'remote_root': '/public1/home/sch9797/liu/nep',\n",
       " 'group_numbers': 10,\n",
       " 'slurm_header_script': ['#!/bin/bash',\n",
       "  '#SBATCH --job-name=gpumd',\n",
       "  '#SBATCH -p v6_384',\n",
       "  '#SBATCH -N 1',\n",
       "  '#SBATCH -n 96',\n",
       "  'source /public1/soft/modules/module.sh',\n",
       "  'module load mpi/oneAPI/2022.1',\n",
       "  'export PATH=/public1/home/sch9797/software-sch9797/6.3.0-vtst+opt+sol+wannier:$PATH']}"
      ]
     },
     "execution_count": 11,
     "metadata": {},
     "output_type": "execute_result"
    }
   ],
   "source": [
    "data"
   ]
  }
 ],
 "metadata": {
  "kernelspec": {
   "display_name": "dev",
   "language": "python",
   "name": "python3"
  },
  "language_info": {
   "codemirror_mode": {
    "name": "ipython",
    "version": 3
   },
   "file_extension": ".py",
   "mimetype": "text/x-python",
   "name": "python",
   "nbconvert_exporter": "python",
   "pygments_lexer": "ipython3",
   "version": "3.9.20"
  }
 },
 "nbformat": 4,
 "nbformat_minor": 2
}
